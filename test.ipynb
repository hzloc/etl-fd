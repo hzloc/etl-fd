{
 "cells": [
  {
   "cell_type": "markdown",
   "metadata": {},
   "source": [
    "**Description** \n",
    "\n",
    "1: Use Python to write a script to crawl events (date, time, location, title, artists, works and image link) from the following link: https://www.lucernefestival.ch/en/program/summer-festival-22\n",
    "\n",
    "2: Insert data into a database (PostgreSQL), with a self-defined schema    \n",
    "3: BONUS TASK: dockerize your solution so we can run it with docker compose"
   ]
  },
  {
   "cell_type": "code",
   "execution_count": 6,
   "metadata": {},
   "outputs": [],
   "source": [
    "import requests\n",
    "from bs4 import BeautifulSoup"
   ]
  },
  {
   "cell_type": "code",
   "execution_count": 2,
   "metadata": {},
   "outputs": [],
   "source": [
    "EVENTS_URL = 'https://www.lucernefestival.ch/en/program/summer-festival-22'"
   ]
  },
  {
   "cell_type": "code",
   "execution_count": 105,
   "metadata": {},
   "outputs": [
    {
     "data": {
      "text/plain": [
       "'https://www.lucernefestival.ch/en'"
      ]
     },
     "execution_count": 105,
     "metadata": {},
     "output_type": "execute_result"
    }
   ],
   "source": [
    "EVENTS_URL.partition(\"/p\")[0]"
   ]
  },
  {
   "cell_type": "code",
   "execution_count": 7,
   "metadata": {},
   "outputs": [],
   "source": [
    "content = requests.get(EVENTS_URL).content"
   ]
  },
  {
   "cell_type": "code",
   "execution_count": 90,
   "metadata": {},
   "outputs": [],
   "source": [
    "soup = BeautifulSoup(content, 'html.parser')"
   ]
  },
  {
   "cell_type": "code",
   "execution_count": 229,
   "metadata": {},
   "outputs": [
    {
     "data": {
      "text/plain": [
       "'http://lucernefestival.ch/en/program/youth-symphony-orchestra-of-ukraine-ysou-oksana-lyniv-andrii-murza/1871'"
      ]
     },
     "execution_count": 229,
     "metadata": {},
     "output_type": "execute_result"
    }
   ],
   "source": [
    "'lucernefestival.ch' + soup.find_all(\"li\", attrs={\"class\": \"event-item fl-clr yellow\"})[0].find('a').get('href')"
   ]
  },
  {
   "cell_type": "code",
   "execution_count": 87,
   "metadata": {},
   "outputs": [],
   "source": [
    "def extract():\n",
    "    \"\"\"Placeholder, change, rename, remove... \"\"\"\n",
    "    res = requests.get(EVENTS_URL)\n",
    "    if(res.status_code != 200):\n",
    "        return \"Response\" + res.status_code\n",
    "    \n",
    "    soup = BeautifulSoup(res.content, 'html.parser').find_all(\"li\", attrs={\"class\": \"event-item fl-clr yellow\"})\n",
    "    yield from soup\n"
   ]
  },
  {
   "cell_type": "code",
   "execution_count": 83,
   "metadata": {},
   "outputs": [
    {
     "ename": "SyntaxError",
     "evalue": "invalid syntax (525519296.py, line 1)",
     "output_type": "error",
     "traceback": [
      "\u001b[1;36m  Input \u001b[1;32mIn [83]\u001b[1;36m\u001b[0m\n\u001b[1;33m    |\u001b[0m\n\u001b[1;37m    ^\u001b[0m\n\u001b[1;31mSyntaxError\u001b[0m\u001b[1;31m:\u001b[0m invalid syntax\n"
     ]
    }
   ],
   "source": []
  },
  {
   "cell_type": "code",
   "execution_count": 5,
   "metadata": {},
   "outputs": [],
   "source": [
    "from db.base import Base, Session, engine\n",
    "from db.artist import Artist\n",
    "from db.program import Program\n",
    "from db.event import Event\n",
    "\n",
    "session = Session()"
   ]
  },
  {
   "cell_type": "code",
   "execution_count": 13,
   "metadata": {},
   "outputs": [],
   "source": [
    "events = session.query(Event).all()"
   ]
  },
  {
   "cell_type": "code",
   "execution_count": 16,
   "metadata": {},
   "outputs": [
    {
     "name": "stdout",
     "output_type": "stream",
     "text": [
      "Youth symphony Orchestra of Ukraine (YsOU) | Oksana Lyniv | Andrii Murza\n",
      "Youth symphony Orchestra of Ukraine (YsOU) | Oksana Lyniv | Andrii Murza\n",
      "Youth symphony Orchestra of Ukraine (YsOU) | Oksana Lyniv | Andrii Murza\n",
      "Youth symphony Orchestra of Ukraine (YsOU) | Oksana Lyniv | Andrii Murza\n",
      "“Seeing is Believing? Black Artists in Classical Music!”\n",
      "Chineke! Junior Orchestra | Glass Marcano | Gerard Aimontche\n",
      "National Youth Orchestra of the USA | Daniel Harding | Alisa Weilerstein\n",
      "Ilumina | Jennifer Stumm | Mark Padmore\n",
      "Lucerne Festival Orchestra | Riccardo Chailly | Anne-Sophie Mutter\n",
      "Lucerne Festival Orchestra | Riccardo Chailly | Anne-Sophie Mutter\n",
      "Youth symphony Orchestra of Ukraine (YsOU) | Oksana Lyniv | Andrii Murza\n",
      "“Seeing is Believing? Black Artists in Classical Music!”\n",
      "Chineke! Junior Orchestra | Glass Marcano | Gerard Aimontche\n",
      "National Youth Orchestra of the USA | Daniel Harding | Alisa Weilerstein\n",
      "Ilumina | Jennifer Stumm | Mark Padmore\n",
      "Lucerne Festival Orchestra | Riccardo Chailly | Anne-Sophie Mutter\n",
      "Lucerne Festival Orchestra | Riccardo Chailly | Anne-Sophie Mutter\n"
     ]
    }
   ],
   "source": [
    "for event in events:\n",
    "    print(f'{event.title}, {events.id}')"
   ]
  },
  {
   "cell_type": "code",
   "execution_count": 2,
   "metadata": {},
   "outputs": [],
   "source": [
    "from psycopg2 import connect\n",
    "\n"
   ]
  },
  {
   "cell_type": "code",
   "execution_count": 4,
   "metadata": {},
   "outputs": [
    {
     "ename": "OperationalError",
     "evalue": "connection to server at \"localhost\" (::1), port 5432 failed: Connection refused (0x0000274D/10061)\n\tIs the server running on that host and accepting TCP/IP connections?\nconnection to server at \"localhost\" (127.0.0.1), port 5432 failed: Connection refused (0x0000274D/10061)\n\tIs the server running on that host and accepting TCP/IP connections?\n",
     "output_type": "error",
     "traceback": [
      "\u001b[1;31m---------------------------------------------------------------------------\u001b[0m",
      "\u001b[1;31mOperationalError\u001b[0m                          Traceback (most recent call last)",
      "\u001b[1;32md:\\fd\\test.ipynb Cell 14\u001b[0m in \u001b[0;36m<cell line: 1>\u001b[1;34m()\u001b[0m\n\u001b[1;32m----> <a href='vscode-notebook-cell:/d%3A/fd/test.ipynb#X16sZmlsZQ%3D%3D?line=0'>1</a>\u001b[0m connect(dbname\u001b[39m=\u001b[39;49m\u001b[39m'\u001b[39;49m\u001b[39mbookstore\u001b[39;49m\u001b[39m'\u001b[39;49m, user\u001b[39m=\u001b[39;49m\u001b[39m'\u001b[39;49m\u001b[39mroot\u001b[39;49m\u001b[39m'\u001b[39;49m, password\u001b[39m=\u001b[39;49m\u001b[39m'\u001b[39;49m\u001b[39mpassword\u001b[39;49m\u001b[39m'\u001b[39;49m, host\u001b[39m=\u001b[39;49m\u001b[39m'\u001b[39;49m\u001b[39mlocalhost\u001b[39;49m\u001b[39m'\u001b[39;49m)\n",
      "File \u001b[1;32mc:\\Users\\husey\\miniconda3\\envs\\demands\\lib\\site-packages\\psycopg2\\__init__.py:122\u001b[0m, in \u001b[0;36mconnect\u001b[1;34m(dsn, connection_factory, cursor_factory, **kwargs)\u001b[0m\n\u001b[0;32m    119\u001b[0m     kwasync[\u001b[39m'\u001b[39m\u001b[39masync_\u001b[39m\u001b[39m'\u001b[39m] \u001b[39m=\u001b[39m kwargs\u001b[39m.\u001b[39mpop(\u001b[39m'\u001b[39m\u001b[39masync_\u001b[39m\u001b[39m'\u001b[39m)\n\u001b[0;32m    121\u001b[0m dsn \u001b[39m=\u001b[39m _ext\u001b[39m.\u001b[39mmake_dsn(dsn, \u001b[39m*\u001b[39m\u001b[39m*\u001b[39mkwargs)\n\u001b[1;32m--> 122\u001b[0m conn \u001b[39m=\u001b[39m _connect(dsn, connection_factory\u001b[39m=\u001b[39;49mconnection_factory, \u001b[39m*\u001b[39;49m\u001b[39m*\u001b[39;49mkwasync)\n\u001b[0;32m    123\u001b[0m \u001b[39mif\u001b[39;00m cursor_factory \u001b[39mis\u001b[39;00m \u001b[39mnot\u001b[39;00m \u001b[39mNone\u001b[39;00m:\n\u001b[0;32m    124\u001b[0m     conn\u001b[39m.\u001b[39mcursor_factory \u001b[39m=\u001b[39m cursor_factory\n",
      "\u001b[1;31mOperationalError\u001b[0m: connection to server at \"localhost\" (::1), port 5432 failed: Connection refused (0x0000274D/10061)\n\tIs the server running on that host and accepting TCP/IP connections?\nconnection to server at \"localhost\" (127.0.0.1), port 5432 failed: Connection refused (0x0000274D/10061)\n\tIs the server running on that host and accepting TCP/IP connections?\n"
     ]
    }
   ],
   "source": [
    "connect(dbname='bookstore', user='root', password='password', host='localhost')"
   ]
  },
  {
   "cell_type": "code",
   "execution_count": null,
   "metadata": {},
   "outputs": [],
   "source": []
  }
 ],
 "metadata": {
  "kernelspec": {
   "display_name": "Python 3.8.13 ('demands')",
   "language": "python",
   "name": "python3"
  },
  "language_info": {
   "codemirror_mode": {
    "name": "ipython",
    "version": 3
   },
   "file_extension": ".py",
   "mimetype": "text/x-python",
   "name": "python",
   "nbconvert_exporter": "python",
   "pygments_lexer": "ipython3",
   "version": "3.8.13"
  },
  "orig_nbformat": 4,
  "vscode": {
   "interpreter": {
    "hash": "166b37848ccccda439934603a277fd250060e5fcdfff3f25fd568ac6fbc0efa3"
   }
  }
 },
 "nbformat": 4,
 "nbformat_minor": 2
}
