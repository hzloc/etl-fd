{
 "cells": [
  {
   "cell_type": "markdown",
   "metadata": {},
   "source": [
    "**Description** \n",
    "\n",
    "1: Use Python to write a script to crawl events (date, time, location, title, artists, works and image link) from the following link: https://www.lucernefestival.ch/en/program/summer-festival-22\n",
    "\n",
    "2: Insert data into a database (PostgreSQL), with a self-defined schema    \n",
    "3: BONUS TASK: dockerize your solution so we can run it with docker compose"
   ]
  },
  {
   "cell_type": "code",
   "execution_count": null,
   "metadata": {},
   "outputs": [],
   "source": [
    "import requests\n",
    "from bs4 import BeautifulSoup"
   ]
  },
  {
   "cell_type": "code",
   "execution_count": null,
   "metadata": {},
   "outputs": [],
   "source": [
    "EVENTS_URL = 'https://www.lucernefestival.ch/en/program/summer-festival-22'"
   ]
  },
  {
   "cell_type": "code",
   "execution_count": null,
   "metadata": {},
   "outputs": [],
   "source": [
    "EVENTS_URL.partition(\"/p\")[0]"
   ]
  },
  {
   "cell_type": "code",
   "execution_count": null,
   "metadata": {},
   "outputs": [],
   "source": [
    "content = requests.get(EVENTS_URL).content"
   ]
  },
  {
   "cell_type": "code",
   "execution_count": null,
   "metadata": {},
   "outputs": [],
   "source": [
    "soup = BeautifulSoup(content, 'html.parser')"
   ]
  },
  {
   "cell_type": "code",
   "execution_count": null,
   "metadata": {},
   "outputs": [],
   "source": [
    "'lucernefestival.ch' + soup.find_all(\"li\", attrs={\"class\": \"event-item fl-clr yellow\"})[0].find('a').get('href')"
   ]
  },
  {
   "cell_type": "code",
   "execution_count": null,
   "metadata": {},
   "outputs": [],
   "source": [
    "def extract():\n",
    "    \"\"\"Placeholder, change, rename, remove... \"\"\"\n",
    "    res = requests.get(EVENTS_URL)\n",
    "    if(res.status_code != 200):\n",
    "        return \"Response\" + res.status_code\n",
    "    \n",
    "    soup = BeautifulSoup(res.content, 'html.parser').find_all(\"li\", attrs={\"class\": \"event-item fl-clr yellow\"})\n",
    "    yield from soup\n"
   ]
  },
  {
   "cell_type": "code",
   "execution_count": null,
   "metadata": {},
   "outputs": [],
   "source": []
  },
  {
   "cell_type": "code",
   "execution_count": null,
   "metadata": {},
   "outputs": [],
   "source": [
    "from db.base import Base, Session, engine\n",
    "from db.artist import Artist\n",
    "from db.program import Program\n",
    "from db.event import Event\n",
    "\n",
    "session = Session()"
   ]
  },
  {
   "cell_type": "code",
   "execution_count": null,
   "metadata": {},
   "outputs": [],
   "source": [
    "events = session.query(Event).all()"
   ]
  },
  {
   "cell_type": "code",
   "execution_count": null,
   "metadata": {},
   "outputs": [],
   "source": [
    "for event in events:\n",
    "    print(f'{event.title}, {event.id}')"
   ]
  },
  {
   "cell_type": "code",
   "execution_count": null,
   "metadata": {},
   "outputs": [],
   "source": [
    "connect(dbname='bookstore', user='root', password='password', host='localhost')"
   ]
  },
  {
   "cell_type": "code",
   "execution_count": 1,
   "metadata": {},
   "outputs": [],
   "source": [
    "from bonobo import Graph"
   ]
  },
  {
   "cell_type": "code",
   "execution_count": 4,
   "metadata": {},
   "outputs": [],
   "source": [
    "from main import transform, extract_information, extract_links, load"
   ]
  },
  {
   "cell_type": "code",
   "execution_count": 6,
   "metadata": {},
   "outputs": [
    {
     "data": {
      "text/plain": [
       "GraphRange(graph=<bonobo.structs.graphs.Graph object at 0x00000155AC82B460>, input=0, output=2)"
      ]
     },
     "execution_count": 6,
     "metadata": {},
     "output_type": "execute_result"
    }
   ],
   "source": [
    "graph = Graph()\n",
    "graph.add_chain(extract_links, transform, load)"
   ]
  },
  {
   "cell_type": "code",
   "execution_count": null,
   "metadata": {},
   "outputs": [],
   "source": []
  }
 ],
 "metadata": {
  "kernelspec": {
   "display_name": "Python 3.8.13 ('demands')",
   "language": "python",
   "name": "python3"
  },
  "language_info": {
   "codemirror_mode": {
    "name": "ipython",
    "version": 3
   },
   "file_extension": ".py",
   "mimetype": "text/x-python",
   "name": "python",
   "nbconvert_exporter": "python",
   "pygments_lexer": "ipython3",
   "version": "3.8.13"
  },
  "orig_nbformat": 4,
  "vscode": {
   "interpreter": {
    "hash": "166b37848ccccda439934603a277fd250060e5fcdfff3f25fd568ac6fbc0efa3"
   }
  }
 },
 "nbformat": 4,
 "nbformat_minor": 2
}
